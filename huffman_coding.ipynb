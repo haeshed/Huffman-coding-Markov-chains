{
  "cells": [
    {
      "cell_type": "markdown",
      "metadata": {
        "id": "sNfP7gluj06T"
      },
      "source": [
        "# Part 3: Huffman Coding\n",
        "\n",
        "In these questions, we'll utilize a full English text to create frequency tables for the English language.\n",
        "\n",
        "We will use a book text to calculate frequencies of all English alphabet letters, including spaces.\n",
        "\n",
        "Read the book provided through Moodle using the `read_text` function."
      ]
    },
    {
      "cell_type": "code",
      "execution_count": 2,
      "metadata": {
        "id": "rGj57JNcxlL3"
      },
      "outputs": [],
      "source": [
        "def read_text(file):\n",
        "    f = open(file, 'r', encoding='utf-8')\n",
        "    text0 = f.read()\n",
        "    f.close()\n",
        "\n",
        "    return clean_raw_text(text0)\n",
        "\n",
        "def clean_raw_text(text0):\n",
        "  text0 = text0.lower()\n",
        "\n",
        "  legalABC = 'abcdefghijklmnopqrstuvwxyz '\n",
        "  text = ''\n",
        "  last_was_space = True\n",
        "\n",
        "  for ch in text0:\n",
        "      if ch == '\\n':\n",
        "          ch = ' '\n",
        "      if ch in legalABC:\n",
        "          if ch != \" \":\n",
        "              text = text + ch\n",
        "              last_was_space = False\n",
        "          if ch == \" \" and last_was_space == False:\n",
        "              text= text + ch\n",
        "              last_was_space = True\n",
        "  return text\n",
        "\n",
        "text = read_text('book-hw1.txt')"
      ]
    },
    {
      "cell_type": "markdown",
      "metadata": {
        "id": "s1ujO3sCdA1R"
      },
      "source": [
        "## Question 6 (10 points):\n",
        "\n",
        "Create the frequency table and print it.\n",
        "\n",
        "Count only lowercase letters '**a**' through '**z**' and the **space** character.\n",
        "\n",
        "**Store frequencies as percentages (like 0.8% or 0.008), not their count.**\n",
        "\n",
        "Example: {' ': 17, 'a': 8.1, 'b': 1.4, ..., 'z': 0.07 }"
      ]
    },
    {
      "cell_type": "code",
      "execution_count": 3,
      "metadata": {
        "id": "zn0Ry4jD0j2g"
      },
      "outputs": [],
      "source": [
        "def freq_table(text):\n",
        "    \"\"\"\n",
        "    Calculate the frequency of each character in the text as a percentage of the total characters.\n",
        "    Sort the results alphabetically.\n",
        "    Args:\n",
        "      text (str): your text file.\n",
        "\n",
        "    Returns:\n",
        "      freq_table (dict): A dictionary containing characters as keys and their corresponding frequencies as values.\n",
        "                         The dictionary is sorted alphabetically by character.\n",
        "    \"\"\"\n",
        "    characters_count_dict = dict()\n",
        "\n",
        "    for c in text:\n",
        "      characters_count_dict[c] = characters_count_dict.get(c, 0) + 1\n",
        "\n",
        "    return {\n",
        "        charachter: count / len(text) for charachter, count in characters_count_dict.items()\n",
        "    }"
      ]
    },
    {
      "cell_type": "code",
      "execution_count": 4,
      "metadata": {
        "id": "A192f9-8vqlJ"
      },
      "outputs": [
        {
          "data": {
            "text/plain": [
              "{'b': 0.011766921616635027,\n",
              " 'u': 0.022405485452184796,\n",
              " 'r': 0.04396761929841813,\n",
              " 'n': 0.05864127056086215,\n",
              " 'i': 0.05447784702001877,\n",
              " 'g': 0.019833763064866405,\n",
              " ' ': 0.187677399676993,\n",
              " 'd': 0.041192559172115395,\n",
              " 'a': 0.06797980622913496,\n",
              " 'y': 0.01684203157735084,\n",
              " 'l': 0.034855755208029505,\n",
              " 'h': 0.054362844528298114,\n",
              " 't': 0.07387993406523809,\n",
              " 'j': 0.0009600208004506765,\n",
              " 'c': 0.018282062778026856,\n",
              " 'k': 0.008250178753873,\n",
              " 'o': 0.05942795427234257,\n",
              " 'p': 0.011928591786155367,\n",
              " 'e': 0.09820046100998855,\n",
              " 'w': 0.020137102970564362,\n",
              " 's': 0.048201044355961044,\n",
              " 'q': 0.0007533496559092113,\n",
              " 'v': 0.006666811114240809,\n",
              " 'f': 0.017437044469296836,\n",
              " 'm': 0.02012543605111444,\n",
              " 'z': 0.0006783480308740023,\n",
              " 'x': 0.0010683564810570895}"
            ]
          },
          "execution_count": 4,
          "metadata": {},
          "output_type": "execute_result"
        }
      ],
      "source": [
        "# print your table here\n",
        "freq_table(text)"
      ]
    },
    {
      "cell_type": "markdown",
      "metadata": {
        "id": "n075fu-XtbG_"
      },
      "source": [
        "Following is a table frequency of general English text that includes only the letters '**a**' through '**z**', make sure that your table looks something like this:\n",
        "\n",
        "Letter | Frequency\n",
        "--- | :---:\n",
        "SPACE |\n",
        "a | 8.167%\n",
        "b | 1.492%\n",
        "c | 2.782%\n",
        "d | 4.253%\n",
        "e | 12.702%\n",
        "f | 2.228%\n",
        "g | 2.015%\n",
        "h | 6.094%\n",
        "i | 6.966%\n",
        "j | 0.253%\n",
        "k | 1.772%\n",
        "l | 4.025%\n",
        "m | 2.406%\n",
        "n | 6.749%\n",
        "o | 7.507%\n",
        "p | 1.929%\n",
        "q | 0.095%\n",
        "r | 5.987%\n",
        "s | 6.327%\n",
        "t | 9.056%\n",
        "u | 2.758%\n",
        "v | 0.978%\n",
        "w | 2.36%\n",
        "x | 0.25%\n",
        "y | 1.974%\n",
        "z | 0.074%"
      ]
    },
    {
      "cell_type": "markdown",
      "metadata": {
        "id": "LUCc63AQdr_h"
      },
      "source": [
        "## Question 7 (10 points):\n",
        "\n",
        "Write code to construct a Huffman Tree representing English alphabet letters, including spaces.\n",
        "\n",
        "The goal of this exercise is to create an encoding table that looks something like:\n",
        "\n",
        "a : 0000\n",
        "\n",
        "b : 00010\n",
        "\n",
        "c : 00011\n",
        "\n",
        "...\n",
        "\n",
        "**Feel free to make changes and adjustments to the code.**"
      ]
    },
    {
      "cell_type": "code",
      "execution_count": 5,
      "metadata": {
        "id": "hFMxatOHdxuQ"
      },
      "outputs": [
        {
          "data": {
            "text/plain": [
              "({' ': '00',\n",
              "  's': '0100',\n",
              "  'h': '0101',\n",
              "  'i': '0110',\n",
              "  'b': '011100',\n",
              "  'p': '011101',\n",
              "  'y': '011110',\n",
              "  'f': '011111',\n",
              "  'n': '1000',\n",
              "  'o': '1001',\n",
              "  'a': '1010',\n",
              "  'l': '10110',\n",
              "  'c': '101110',\n",
              "  'k': '1011110',\n",
              "  'z': '1011111000',\n",
              "  'q': '1011111001',\n",
              "  'j': '1011111010',\n",
              "  'x': '1011111011',\n",
              "  'v': '10111111',\n",
              "  't': '1100',\n",
              "  'g': '110100',\n",
              "  'm': '110101',\n",
              "  'd': '11011',\n",
              "  'w': '111000',\n",
              "  'u': '111001',\n",
              "  'r': '11101',\n",
              "  'e': '1111'},\n",
              " [('z', 0.0006783480308740023),\n",
              "  ('q', 0.0007533496559092113),\n",
              "  ('j', 0.0009600208004506765),\n",
              "  ('x', 0.0010683564810570895),\n",
              "  ('v', 0.006666811114240809),\n",
              "  ('k', 0.008250178753873),\n",
              "  ('b', 0.011766921616635027),\n",
              "  ('p', 0.011928591786155367),\n",
              "  ('y', 0.01684203157735084),\n",
              "  ('f', 0.017437044469296836),\n",
              "  ('c', 0.018282062778026856),\n",
              "  ('g', 0.019833763064866405),\n",
              "  ('m', 0.02012543605111444),\n",
              "  ('w', 0.020137102970564362),\n",
              "  ('u', 0.022405485452184796),\n",
              "  ('l', 0.034855755208029505),\n",
              "  ('d', 0.041192559172115395),\n",
              "  ('r', 0.04396761929841813),\n",
              "  ('s', 0.048201044355961044),\n",
              "  ('h', 0.054362844528298114),\n",
              "  ('i', 0.05447784702001877),\n",
              "  ('n', 0.05864127056086215),\n",
              "  ('o', 0.05942795427234257),\n",
              "  ('a', 0.06797980622913496),\n",
              "  ('t', 0.07387993406523809),\n",
              "  ('e', 0.09820046100998855),\n",
              "  (' ', 0.187677399676993)])"
            ]
          },
          "execution_count": 5,
          "metadata": {},
          "output_type": "execute_result"
        }
      ],
      "source": [
        "import heapq\n",
        "\n",
        "class NodeTree(object):\n",
        "    \"\"\"\n",
        "    Represents a node in the Huffman Tree.\n",
        "\n",
        "    Args:\n",
        "    left (NodeTree): The left child node (default is None).\n",
        "    right (NodeTree): The right child node (default is None).\n",
        "\n",
        "    Methods:\n",
        "    children(): Returns the left and right children of the node.\n",
        "    str(): Returns a string representation of the node, including its left and right children.\n",
        "    \"\"\"\n",
        "    def __init__(self, value=None, left=None, right=None):\n",
        "        self._left = left\n",
        "        self._right = right\n",
        "        self._value = value\n",
        "\n",
        "    def value(self):\n",
        "        return self._value\n",
        "\n",
        "    def children(self):\n",
        "        return self._left, self._right\n",
        "\n",
        "    def __str__(self):\n",
        "        if not self._left and not self._right:\n",
        "          return f\"({self._value})\"\n",
        "        return f\"({self._left} <-- () --> {self._right})\"\n",
        "\n",
        "    def __lt__(self, other):\n",
        "        return True\n",
        "\n",
        "\n",
        "def huffman_code_tree(node: NodeTree, binString=''):\n",
        "    \"\"\"\n",
        "    Recursively generates Huffman codes for characters in the Huffman Tree.\n",
        "\n",
        "    Args:\n",
        "    node (NodeTree): The current node in the Huffman Tree.\n",
        "    binString (str, optional): The binary string for recursion.\n",
        "\n",
        "    Returns:\n",
        "    codes (dict): A dictionary of characters and their corresponding Huffman codes.\n",
        "    \"\"\"\n",
        "    left, right = node.children()\n",
        "\n",
        "    if not left and not right:\n",
        "      return {\n",
        "          node.value(): binString\n",
        "      }\n",
        "\n",
        "    left_dict = huffman_code_tree(left,  binString + \"0\")\n",
        "    right_dict = huffman_code_tree(right, binString + \"1\")\n",
        "\n",
        "    return {\n",
        "        **left_dict,\n",
        "        **right_dict\n",
        "    }\n",
        "\n",
        "\n",
        "def make_tree(nodes):\n",
        "    \"\"\"\n",
        "    Constructs the Huffman Tree from a list of nodes representing characters and their frequencies.\n",
        "\n",
        "    Args:\n",
        "    nodes (list): A decending sorted list of tuples with character-frequency pairs.\n",
        "\n",
        "    Returns:\n",
        "    root (NodeTree): The root node of the Huffman Tree.\n",
        "    \"\"\"\n",
        "    heap = [(freq, NodeTree(char)) for char, freq in nodes]\n",
        "    while len(heap) > 1:\n",
        "        left_freq, left_node = heapq.heappop(heap)\n",
        "        right_freq, right_node = heapq.heappop(heap)\n",
        "        combined_freq = left_freq + right_freq\n",
        "        combined_node = NodeTree(value=None, left=left_node, right=right_node)\n",
        "        heapq.heappush(heap, (combined_freq, combined_node))\n",
        "    return heap[0][1]\n",
        "\n",
        "\n",
        "def init_huffman(text, print_code=False):\n",
        "    \"\"\"\n",
        "    Initializes Huffman encoding for a given text.\n",
        "\n",
        "    Args:\n",
        "    text (str): The input text to be encoded.\n",
        "    print_code (bool, optional): Whether to print Huffman codes.\n",
        "\n",
        "    Returns:\n",
        "    encoding (dict): A dictionary of characters and their Huffman codes.\n",
        "    freq (list): A sorted list of tuples representing character frequencies.\n",
        "    \"\"\"\n",
        "    freq = sorted(freq_table(text).items(), key=(lambda entry: entry[1]))\n",
        "    encoding_tree = make_tree(freq)\n",
        "\n",
        "    encoding = huffman_code_tree(encoding_tree)\n",
        "\n",
        "    if print_code:\n",
        "      print(encoding)\n",
        "\n",
        "    return encoding, freq\n",
        "\n",
        "\n",
        "init_huffman(text)"
      ]
    },
    {
      "cell_type": "markdown",
      "metadata": {
        "id": "S-l9hEsndyeZ"
      },
      "source": [
        "## Question 8 (5 points):\n",
        "* Encode the first 1000 letters from our text using Huffman coding and print your encoding table.\n",
        "Determine the number of bits required for Huffman encoding.\n",
        "Compare this to storing letters in ASCII code, which needs 8 bits per character (totaling 8000 bits for 1000 characters).\n",
        "\n",
        "* Encode this message in Huffman code: **\"The rat and the bear had a date. The rat had a bad hat. The bear had a red beard. Then, the rat had tea and the bear had naan.\"** Print your encoding table. Determine the number of bits required for Huffman encoding.\n",
        "Compare this to storing letters in ASCII code, which needs 8 bits per character.\n",
        "\n",
        "* Answer the open question below.\n",
        "\n",
        "* **Note:** Don't forget to remove punctuations and use only lowercased letters."
      ]
    },
    {
      "cell_type": "code",
      "execution_count": 6,
      "metadata": {
        "id": "mmEvDXM1d260"
      },
      "outputs": [
        {
          "name": "stdout",
          "output_type": "stream",
          "text": [
            "Encoding the first 1000 characters will take in Huffman encoding: 4146.0 bits, 8000 bits in ASCII. Ratio: 0.51825\n",
            "Encoding the message characters will take in Huffman encoding: 362.0 bits, 968 bits in ASCII. Ratio: 0.3739669421487603\n"
          ]
        }
      ],
      "source": [
        "def calculate_encoded_text_bit_size(text: str):\n",
        "  encoding_dict, frequencies = init_huffman(text)\n",
        "  bit_size = 0\n",
        "\n",
        "  for character, frequency in frequencies:\n",
        "    bit_size += frequency * len(text) * len(encoding_dict[character])\n",
        "\n",
        "  return bit_size\n",
        "\n",
        "first_1000_encoded_bit_size = calculate_encoded_text_bit_size(text[:1000])\n",
        "huffman_vs_ascii_ratio = first_1000_encoded_bit_size / 8000\n",
        "print(f\"Encoding the first 1000 characters will take in Huffman encoding: {first_1000_encoded_bit_size} bits, 8000 bits in ASCII. Ratio: {huffman_vs_ascii_ratio}\")\n",
        "\n",
        "message = \"The rat and the bear had a date. The rat had a bad hat. The bear had a red beard. Then, the rat had tea and the bear had naan\"\n",
        "clean_message = clean_raw_text(message)\n",
        "clean_message_encoded_bit_size = calculate_encoded_text_bit_size(clean_message)\n",
        "clean_message_ascii_bit_size = len(clean_message) * 8\n",
        "\n",
        "huffman_vs_ascii_ratio = clean_message_encoded_bit_size / clean_message_ascii_bit_size\n",
        "print(f\"Encoding the message characters will take in Huffman encoding: {clean_message_encoded_bit_size} bits, {clean_message_ascii_bit_size} bits in ASCII. Ratio: {huffman_vs_ascii_ratio}\")\n",
        "\n"
      ]
    },
    {
      "cell_type": "markdown",
      "metadata": {
        "id": "u7gkl9jCLtWH"
      },
      "source": [
        "### Explain in your own words why using Huffman coding is more efficient in the second encoding of the short sentence compared to encoding the entire text."
      ]
    },
    {
      "cell_type": "markdown",
      "metadata": {
        "id": "25iY48A_LvsM"
      },
      "source": [
        "The main cause for that difference is that the short sentence only contains 9 different characters while the long text contains all the english letters and space. Meaning the maximum bits used to encode a single character in the short sentence is much smaller than the maximum bits used to encode a single character in the long text. This will result in less bits in total being used.\n",
        "Other parameter that can effect the differences is the distribution of characters being used, for example a string contains 1000 times the character 'a' and all the other english characters are only written one time will also be extremly efficient in storage."
      ]
    },
    {
      "cell_type": "markdown",
      "metadata": {
        "id": "rsS9o7nKd30S"
      },
      "source": [
        "## Question 9 (5 points):\n",
        "Here is a list of words:\n",
        "\n",
        "`Hi, For, Forest, False, Falls, Fall, Friend, Friends, High`\n",
        "\n",
        "Create binary representations using the Huffman code method.\n",
        "\n",
        "Build the Huffman Tree for encoding and provide the binary representation for the message \"False Friends Fall High.\"\n",
        "\n",
        "Use separators between words for clarity."
      ]
    },
    {
      "cell_type": "code",
      "execution_count": 7,
      "metadata": {
        "id": "uCro5JCIfYMw"
      },
      "outputs": [
        {
          "name": "stdout",
          "output_type": "stream",
          "text": [
            "Encoded 'False Friends Fall High':\n",
            "1101010100011010 11000011110101110011101011 1101010100100 1011111110011110110\n"
          ]
        }
      ],
      "source": [
        "encoding_dict, _f = init_huffman(\"\".join([\"Hi\", \"For\", \"Forest\", \"False\", \"Falls\", \"Fall\", \"Friend\", \"Friends\", \"High\"]))\n",
        "\n",
        "print(\"Encoded 'False Friends Fall High':\")\n",
        "print(\"\".join(encoding_dict[c] if not c == \" \" else c for c in \"False Friends Fall High\"))\n",
        "\n"
      ]
    }
  ],
  "metadata": {
    "colab": {
      "provenance": []
    },
    "kernelspec": {
      "display_name": "Python 3",
      "name": "python3"
    },
    "language_info": {
      "codemirror_mode": {
        "name": "ipython",
        "version": 3
      },
      "file_extension": ".py",
      "mimetype": "text/x-python",
      "name": "python",
      "nbconvert_exporter": "python",
      "pygments_lexer": "ipython3",
      "version": "3.10.11"
    }
  },
  "nbformat": 4,
  "nbformat_minor": 0
}
